{
 "cells": [
  {
   "cell_type": "code",
   "execution_count": 117,
   "metadata": {
    "scrolled": true
   },
   "outputs": [
    {
     "name": "stdout",
     "output_type": "stream",
     "text": [
      "Collecting furl\n",
      "  Downloading furl-2.1.2-py2.py3-none-any.whl (20 kB)\n",
      "Requirement already satisfied: six>=1.8.0 in /Users/mingtayang/opt/anaconda3/lib/python3.7/site-packages (from furl) (1.14.0)\n",
      "Collecting orderedmultidict>=1.0.1\n",
      "  Downloading orderedmultidict-1.0.1-py2.py3-none-any.whl (11 kB)\n",
      "Installing collected packages: orderedmultidict, furl\n",
      "Successfully installed furl-2.1.2 orderedmultidict-1.0.1\n",
      "\u001b[33mWARNING: You are using pip version 21.0.1; however, version 21.1.1 is available.\n",
      "You should consider upgrading via the '/Users/mingtayang/opt/anaconda3/bin/python -m pip install --upgrade pip' command.\u001b[0m\n",
      "Note: you may need to restart the kernel to use updated packages.\n"
     ]
    }
   ],
   "source": [
    "pip install furl"
   ]
  },
  {
   "cell_type": "code",
   "execution_count": 1,
   "metadata": {},
   "outputs": [],
   "source": [
    "import requests\n",
    "import bs4\n",
    "import urllib.parse\n",
    "import time\n",
    "import random\n",
    "import re\n",
    "from furl import furl"
   ]
  },
  {
   "cell_type": "markdown",
   "metadata": {},
   "source": [
    "# Define Variables"
   ]
  },
  {
   "cell_type": "code",
   "execution_count": 2,
   "metadata": {},
   "outputs": [],
   "source": [
    "# Define keywords\n",
    "keyword_primary = \"iOS\"\n",
    "keyword_secondary_list = ['遠端', '遠距', '在家']"
   ]
  },
  {
   "cell_type": "code",
   "execution_count": 3,
   "metadata": {},
   "outputs": [],
   "source": [
    "# Define original url\n",
    "url_original = 'https://www.104.com.tw/jobs/search/?ro=0&jobcat=2007001004&kwop=7&keyword=%E9%81%A0%E7%AB%AF&expansionType=area%2Cspec%2Ccom%2Cjob%2Cwf%2Cwktm&order=14&asc=0&page=1&mode=s&jobsource=104_bank1'"
   ]
  },
  {
   "cell_type": "markdown",
   "metadata": {},
   "source": [
    "# Gather web page results"
   ]
  },
  {
   "cell_type": "code",
   "execution_count": 4,
   "metadata": {},
   "outputs": [],
   "source": [
    "# Define how to tell a page is invalid\n",
    "def is_invalid_page(content):\n",
    "    select = content.find('p', class_='b-tit')\n",
    "    return True if select else False"
   ]
  },
  {
   "cell_type": "code",
   "execution_count": 5,
   "metadata": {},
   "outputs": [],
   "source": [
    "f = furl(url_original)"
   ]
  },
  {
   "cell_type": "code",
   "execution_count": 6,
   "metadata": {},
   "outputs": [],
   "source": [
    "f.args['keyword'] = keyword_primary "
   ]
  },
  {
   "cell_type": "code",
   "execution_count": 7,
   "metadata": {},
   "outputs": [
    {
     "name": "stdout",
     "output_type": "stream",
     "text": [
      "Start fetching page 1...\n",
      "https://www.104.com.tw/jobs/search/?ro=0&jobcat=2007001004&kwop=7&keyword=iOS&expansionType=area%2Cspec%2Ccom%2Cjob%2Cwf%2Cwktm&order=14&asc=0&page=1&mode=s&jobsource=104_bank1\n",
      "Start fetching page 2...\n",
      "https://www.104.com.tw/jobs/search/?ro=0&jobcat=2007001004&kwop=7&keyword=iOS&expansionType=area%2Cspec%2Ccom%2Cjob%2Cwf%2Cwktm&order=14&asc=0&page=2&mode=s&jobsource=104_bank1\n",
      "Start fetching page 3...\n",
      "https://www.104.com.tw/jobs/search/?ro=0&jobcat=2007001004&kwop=7&keyword=iOS&expansionType=area%2Cspec%2Ccom%2Cjob%2Cwf%2Cwktm&order=14&asc=0&page=3&mode=s&jobsource=104_bank1\n",
      "Start fetching page 4...\n",
      "https://www.104.com.tw/jobs/search/?ro=0&jobcat=2007001004&kwop=7&keyword=iOS&expansionType=area%2Cspec%2Ccom%2Cjob%2Cwf%2Cwktm&order=14&asc=0&page=4&mode=s&jobsource=104_bank1\n",
      "Start fetching page 5...\n",
      "https://www.104.com.tw/jobs/search/?ro=0&jobcat=2007001004&kwop=7&keyword=iOS&expansionType=area%2Cspec%2Ccom%2Cjob%2Cwf%2Cwktm&order=14&asc=0&page=5&mode=s&jobsource=104_bank1\n",
      "Start fetching page 6...\n",
      "https://www.104.com.tw/jobs/search/?ro=0&jobcat=2007001004&kwop=7&keyword=iOS&expansionType=area%2Cspec%2Ccom%2Cjob%2Cwf%2Cwktm&order=14&asc=0&page=6&mode=s&jobsource=104_bank1\n",
      "Start fetching page 7...\n",
      "https://www.104.com.tw/jobs/search/?ro=0&jobcat=2007001004&kwop=7&keyword=iOS&expansionType=area%2Cspec%2Ccom%2Cjob%2Cwf%2Cwktm&order=14&asc=0&page=7&mode=s&jobsource=104_bank1\n",
      "Start fetching page 8...\n",
      "https://www.104.com.tw/jobs/search/?ro=0&jobcat=2007001004&kwop=7&keyword=iOS&expansionType=area%2Cspec%2Ccom%2Cjob%2Cwf%2Cwktm&order=14&asc=0&page=8&mode=s&jobsource=104_bank1\n",
      "Start fetching page 9...\n",
      "https://www.104.com.tw/jobs/search/?ro=0&jobcat=2007001004&kwop=7&keyword=iOS&expansionType=area%2Cspec%2Ccom%2Cjob%2Cwf%2Cwktm&order=14&asc=0&page=9&mode=s&jobsource=104_bank1\n",
      "Start fetching page 10...\n",
      "https://www.104.com.tw/jobs/search/?ro=0&jobcat=2007001004&kwop=7&keyword=iOS&expansionType=area%2Cspec%2Ccom%2Cjob%2Cwf%2Cwktm&order=14&asc=0&page=10&mode=s&jobsource=104_bank1\n",
      "Start fetching page 11...\n",
      "https://www.104.com.tw/jobs/search/?ro=0&jobcat=2007001004&kwop=7&keyword=iOS&expansionType=area%2Cspec%2Ccom%2Cjob%2Cwf%2Cwktm&order=14&asc=0&page=11&mode=s&jobsource=104_bank1\n",
      "Start fetching page 12...\n",
      "https://www.104.com.tw/jobs/search/?ro=0&jobcat=2007001004&kwop=7&keyword=iOS&expansionType=area%2Cspec%2Ccom%2Cjob%2Cwf%2Cwktm&order=14&asc=0&page=12&mode=s&jobsource=104_bank1\n",
      "Start fetching page 13...\n",
      "https://www.104.com.tw/jobs/search/?ro=0&jobcat=2007001004&kwop=7&keyword=iOS&expansionType=area%2Cspec%2Ccom%2Cjob%2Cwf%2Cwktm&order=14&asc=0&page=13&mode=s&jobsource=104_bank1\n",
      "Start fetching page 14...\n",
      "https://www.104.com.tw/jobs/search/?ro=0&jobcat=2007001004&kwop=7&keyword=iOS&expansionType=area%2Cspec%2Ccom%2Cjob%2Cwf%2Cwktm&order=14&asc=0&page=14&mode=s&jobsource=104_bank1\n",
      "Start fetching page 15...\n",
      "https://www.104.com.tw/jobs/search/?ro=0&jobcat=2007001004&kwop=7&keyword=iOS&expansionType=area%2Cspec%2Ccom%2Cjob%2Cwf%2Cwktm&order=14&asc=0&page=15&mode=s&jobsource=104_bank1\n",
      "Start fetching page 16...\n",
      "https://www.104.com.tw/jobs/search/?ro=0&jobcat=2007001004&kwop=7&keyword=iOS&expansionType=area%2Cspec%2Ccom%2Cjob%2Cwf%2Cwktm&order=14&asc=0&page=16&mode=s&jobsource=104_bank1\n",
      "Start fetching page 17...\n",
      "https://www.104.com.tw/jobs/search/?ro=0&jobcat=2007001004&kwop=7&keyword=iOS&expansionType=area%2Cspec%2Ccom%2Cjob%2Cwf%2Cwktm&order=14&asc=0&page=17&mode=s&jobsource=104_bank1\n",
      "Start fetching page 18...\n",
      "https://www.104.com.tw/jobs/search/?ro=0&jobcat=2007001004&kwop=7&keyword=iOS&expansionType=area%2Cspec%2Ccom%2Cjob%2Cwf%2Cwktm&order=14&asc=0&page=18&mode=s&jobsource=104_bank1\n",
      "Start fetching page 19...\n",
      "https://www.104.com.tw/jobs/search/?ro=0&jobcat=2007001004&kwop=7&keyword=iOS&expansionType=area%2Cspec%2Ccom%2Cjob%2Cwf%2Cwktm&order=14&asc=0&page=19&mode=s&jobsource=104_bank1\n",
      "Start fetching page 20...\n",
      "https://www.104.com.tw/jobs/search/?ro=0&jobcat=2007001004&kwop=7&keyword=iOS&expansionType=area%2Cspec%2Ccom%2Cjob%2Cwf%2Cwktm&order=14&asc=0&page=20&mode=s&jobsource=104_bank1\n",
      "Start fetching page 21...\n",
      "https://www.104.com.tw/jobs/search/?ro=0&jobcat=2007001004&kwop=7&keyword=iOS&expansionType=area%2Cspec%2Ccom%2Cjob%2Cwf%2Cwktm&order=14&asc=0&page=21&mode=s&jobsource=104_bank1\n",
      "Start fetching page 22...\n",
      "https://www.104.com.tw/jobs/search/?ro=0&jobcat=2007001004&kwop=7&keyword=iOS&expansionType=area%2Cspec%2Ccom%2Cjob%2Cwf%2Cwktm&order=14&asc=0&page=22&mode=s&jobsource=104_bank1\n",
      "Start fetching page 23...\n",
      "https://www.104.com.tw/jobs/search/?ro=0&jobcat=2007001004&kwop=7&keyword=iOS&expansionType=area%2Cspec%2Ccom%2Cjob%2Cwf%2Cwktm&order=14&asc=0&page=23&mode=s&jobsource=104_bank1\n",
      "Start fetching page 24...\n",
      "https://www.104.com.tw/jobs/search/?ro=0&jobcat=2007001004&kwop=7&keyword=iOS&expansionType=area%2Cspec%2Ccom%2Cjob%2Cwf%2Cwktm&order=14&asc=0&page=24&mode=s&jobsource=104_bank1\n",
      "Start fetching page 25...\n",
      "https://www.104.com.tw/jobs/search/?ro=0&jobcat=2007001004&kwop=7&keyword=iOS&expansionType=area%2Cspec%2Ccom%2Cjob%2Cwf%2Cwktm&order=14&asc=0&page=25&mode=s&jobsource=104_bank1\n",
      "Start fetching page 26...\n",
      "https://www.104.com.tw/jobs/search/?ro=0&jobcat=2007001004&kwop=7&keyword=iOS&expansionType=area%2Cspec%2Ccom%2Cjob%2Cwf%2Cwktm&order=14&asc=0&page=26&mode=s&jobsource=104_bank1\n",
      "Start fetching page 27...\n",
      "https://www.104.com.tw/jobs/search/?ro=0&jobcat=2007001004&kwop=7&keyword=iOS&expansionType=area%2Cspec%2Ccom%2Cjob%2Cwf%2Cwktm&order=14&asc=0&page=27&mode=s&jobsource=104_bank1\n",
      "Start fetching page 28...\n",
      "https://www.104.com.tw/jobs/search/?ro=0&jobcat=2007001004&kwop=7&keyword=iOS&expansionType=area%2Cspec%2Ccom%2Cjob%2Cwf%2Cwktm&order=14&asc=0&page=28&mode=s&jobsource=104_bank1\n",
      "Start fetching page 29...\n",
      "https://www.104.com.tw/jobs/search/?ro=0&jobcat=2007001004&kwop=7&keyword=iOS&expansionType=area%2Cspec%2Ccom%2Cjob%2Cwf%2Cwktm&order=14&asc=0&page=29&mode=s&jobsource=104_bank1\n",
      "Start fetching page 30...\n",
      "https://www.104.com.tw/jobs/search/?ro=0&jobcat=2007001004&kwop=7&keyword=iOS&expansionType=area%2Cspec%2Ccom%2Cjob%2Cwf%2Cwktm&order=14&asc=0&page=30&mode=s&jobsource=104_bank1\n",
      "Start fetching page 31...\n",
      "https://www.104.com.tw/jobs/search/?ro=0&jobcat=2007001004&kwop=7&keyword=iOS&expansionType=area%2Cspec%2Ccom%2Cjob%2Cwf%2Cwktm&order=14&asc=0&page=31&mode=s&jobsource=104_bank1\n",
      "Start fetching page 32...\n",
      "https://www.104.com.tw/jobs/search/?ro=0&jobcat=2007001004&kwop=7&keyword=iOS&expansionType=area%2Cspec%2Ccom%2Cjob%2Cwf%2Cwktm&order=14&asc=0&page=32&mode=s&jobsource=104_bank1\n",
      "Start fetching page 33...\n",
      "https://www.104.com.tw/jobs/search/?ro=0&jobcat=2007001004&kwop=7&keyword=iOS&expansionType=area%2Cspec%2Ccom%2Cjob%2Cwf%2Cwktm&order=14&asc=0&page=33&mode=s&jobsource=104_bank1\n",
      "Start fetching page 34...\n",
      "https://www.104.com.tw/jobs/search/?ro=0&jobcat=2007001004&kwop=7&keyword=iOS&expansionType=area%2Cspec%2Ccom%2Cjob%2Cwf%2Cwktm&order=14&asc=0&page=34&mode=s&jobsource=104_bank1\n",
      "Start fetching page 35...\n",
      "https://www.104.com.tw/jobs/search/?ro=0&jobcat=2007001004&kwop=7&keyword=iOS&expansionType=area%2Cspec%2Ccom%2Cjob%2Cwf%2Cwktm&order=14&asc=0&page=35&mode=s&jobsource=104_bank1\n",
      "Start fetching page 36...\n",
      "https://www.104.com.tw/jobs/search/?ro=0&jobcat=2007001004&kwop=7&keyword=iOS&expansionType=area%2Cspec%2Ccom%2Cjob%2Cwf%2Cwktm&order=14&asc=0&page=36&mode=s&jobsource=104_bank1\n",
      "Start fetching page 37...\n",
      "https://www.104.com.tw/jobs/search/?ro=0&jobcat=2007001004&kwop=7&keyword=iOS&expansionType=area%2Cspec%2Ccom%2Cjob%2Cwf%2Cwktm&order=14&asc=0&page=37&mode=s&jobsource=104_bank1\n",
      "Start fetching page 38...\n",
      "https://www.104.com.tw/jobs/search/?ro=0&jobcat=2007001004&kwop=7&keyword=iOS&expansionType=area%2Cspec%2Ccom%2Cjob%2Cwf%2Cwktm&order=14&asc=0&page=38&mode=s&jobsource=104_bank1\n",
      "Start fetching page 39...\n",
      "https://www.104.com.tw/jobs/search/?ro=0&jobcat=2007001004&kwop=7&keyword=iOS&expansionType=area%2Cspec%2Ccom%2Cjob%2Cwf%2Cwktm&order=14&asc=0&page=39&mode=s&jobsource=104_bank1\n",
      "Start fetching page 40...\n",
      "https://www.104.com.tw/jobs/search/?ro=0&jobcat=2007001004&kwop=7&keyword=iOS&expansionType=area%2Cspec%2Ccom%2Cjob%2Cwf%2Cwktm&order=14&asc=0&page=40&mode=s&jobsource=104_bank1\n",
      "Start fetching page 41...\n",
      "https://www.104.com.tw/jobs/search/?ro=0&jobcat=2007001004&kwop=7&keyword=iOS&expansionType=area%2Cspec%2Ccom%2Cjob%2Cwf%2Cwktm&order=14&asc=0&page=41&mode=s&jobsource=104_bank1\n"
     ]
    },
    {
     "name": "stdout",
     "output_type": "stream",
     "text": [
      "Start fetching page 42...\n",
      "https://www.104.com.tw/jobs/search/?ro=0&jobcat=2007001004&kwop=7&keyword=iOS&expansionType=area%2Cspec%2Ccom%2Cjob%2Cwf%2Cwktm&order=14&asc=0&page=42&mode=s&jobsource=104_bank1\n",
      "Start fetching page 43...\n",
      "https://www.104.com.tw/jobs/search/?ro=0&jobcat=2007001004&kwop=7&keyword=iOS&expansionType=area%2Cspec%2Ccom%2Cjob%2Cwf%2Cwktm&order=14&asc=0&page=43&mode=s&jobsource=104_bank1\n",
      "Start fetching page 44...\n",
      "https://www.104.com.tw/jobs/search/?ro=0&jobcat=2007001004&kwop=7&keyword=iOS&expansionType=area%2Cspec%2Ccom%2Cjob%2Cwf%2Cwktm&order=14&asc=0&page=44&mode=s&jobsource=104_bank1\n",
      "Start fetching page 45...\n",
      "https://www.104.com.tw/jobs/search/?ro=0&jobcat=2007001004&kwop=7&keyword=iOS&expansionType=area%2Cspec%2Ccom%2Cjob%2Cwf%2Cwktm&order=14&asc=0&page=45&mode=s&jobsource=104_bank1\n",
      "Start fetching page 46...\n",
      "https://www.104.com.tw/jobs/search/?ro=0&jobcat=2007001004&kwop=7&keyword=iOS&expansionType=area%2Cspec%2Ccom%2Cjob%2Cwf%2Cwktm&order=14&asc=0&page=46&mode=s&jobsource=104_bank1\n",
      "Start fetching page 47...\n",
      "https://www.104.com.tw/jobs/search/?ro=0&jobcat=2007001004&kwop=7&keyword=iOS&expansionType=area%2Cspec%2Ccom%2Cjob%2Cwf%2Cwktm&order=14&asc=0&page=47&mode=s&jobsource=104_bank1\n",
      "Start fetching page 48...\n",
      "https://www.104.com.tw/jobs/search/?ro=0&jobcat=2007001004&kwop=7&keyword=iOS&expansionType=area%2Cspec%2Ccom%2Cjob%2Cwf%2Cwktm&order=14&asc=0&page=48&mode=s&jobsource=104_bank1\n",
      "Start fetching page 49...\n",
      "https://www.104.com.tw/jobs/search/?ro=0&jobcat=2007001004&kwop=7&keyword=iOS&expansionType=area%2Cspec%2Ccom%2Cjob%2Cwf%2Cwktm&order=14&asc=0&page=49&mode=s&jobsource=104_bank1\n",
      "Start fetching page 50...\n",
      "https://www.104.com.tw/jobs/search/?ro=0&jobcat=2007001004&kwop=7&keyword=iOS&expansionType=area%2Cspec%2Ccom%2Cjob%2Cwf%2Cwktm&order=14&asc=0&page=50&mode=s&jobsource=104_bank1\n",
      "Start fetching page 51...\n",
      "https://www.104.com.tw/jobs/search/?ro=0&jobcat=2007001004&kwop=7&keyword=iOS&expansionType=area%2Cspec%2Ccom%2Cjob%2Cwf%2Cwktm&order=14&asc=0&page=51&mode=s&jobsource=104_bank1\n",
      "Start fetching page 52...\n",
      "https://www.104.com.tw/jobs/search/?ro=0&jobcat=2007001004&kwop=7&keyword=iOS&expansionType=area%2Cspec%2Ccom%2Cjob%2Cwf%2Cwktm&order=14&asc=0&page=52&mode=s&jobsource=104_bank1\n",
      "Start fetching page 53...\n",
      "https://www.104.com.tw/jobs/search/?ro=0&jobcat=2007001004&kwop=7&keyword=iOS&expansionType=area%2Cspec%2Ccom%2Cjob%2Cwf%2Cwktm&order=14&asc=0&page=53&mode=s&jobsource=104_bank1\n",
      "Start fetching page 54...\n",
      "https://www.104.com.tw/jobs/search/?ro=0&jobcat=2007001004&kwop=7&keyword=iOS&expansionType=area%2Cspec%2Ccom%2Cjob%2Cwf%2Cwktm&order=14&asc=0&page=54&mode=s&jobsource=104_bank1\n",
      "Start fetching page 55...\n",
      "https://www.104.com.tw/jobs/search/?ro=0&jobcat=2007001004&kwop=7&keyword=iOS&expansionType=area%2Cspec%2Ccom%2Cjob%2Cwf%2Cwktm&order=14&asc=0&page=55&mode=s&jobsource=104_bank1\n",
      "Start fetching page 56...\n",
      "https://www.104.com.tw/jobs/search/?ro=0&jobcat=2007001004&kwop=7&keyword=iOS&expansionType=area%2Cspec%2Ccom%2Cjob%2Cwf%2Cwktm&order=14&asc=0&page=56&mode=s&jobsource=104_bank1\n",
      "Start fetching page 57...\n",
      "https://www.104.com.tw/jobs/search/?ro=0&jobcat=2007001004&kwop=7&keyword=iOS&expansionType=area%2Cspec%2Ccom%2Cjob%2Cwf%2Cwktm&order=14&asc=0&page=57&mode=s&jobsource=104_bank1\n",
      "Start fetching page 58...\n",
      "https://www.104.com.tw/jobs/search/?ro=0&jobcat=2007001004&kwop=7&keyword=iOS&expansionType=area%2Cspec%2Ccom%2Cjob%2Cwf%2Cwktm&order=14&asc=0&page=58&mode=s&jobsource=104_bank1\n",
      "Start fetching page 59...\n",
      "https://www.104.com.tw/jobs/search/?ro=0&jobcat=2007001004&kwop=7&keyword=iOS&expansionType=area%2Cspec%2Ccom%2Cjob%2Cwf%2Cwktm&order=14&asc=0&page=59&mode=s&jobsource=104_bank1\n",
      "Start fetching page 60...\n",
      "https://www.104.com.tw/jobs/search/?ro=0&jobcat=2007001004&kwop=7&keyword=iOS&expansionType=area%2Cspec%2Ccom%2Cjob%2Cwf%2Cwktm&order=14&asc=0&page=60&mode=s&jobsource=104_bank1\n",
      "Start fetching page 61...\n",
      "https://www.104.com.tw/jobs/search/?ro=0&jobcat=2007001004&kwop=7&keyword=iOS&expansionType=area%2Cspec%2Ccom%2Cjob%2Cwf%2Cwktm&order=14&asc=0&page=61&mode=s&jobsource=104_bank1\n",
      "Start fetching page 62...\n",
      "https://www.104.com.tw/jobs/search/?ro=0&jobcat=2007001004&kwop=7&keyword=iOS&expansionType=area%2Cspec%2Ccom%2Cjob%2Cwf%2Cwktm&order=14&asc=0&page=62&mode=s&jobsource=104_bank1\n",
      "Start fetching page 63...\n",
      "https://www.104.com.tw/jobs/search/?ro=0&jobcat=2007001004&kwop=7&keyword=iOS&expansionType=area%2Cspec%2Ccom%2Cjob%2Cwf%2Cwktm&order=14&asc=0&page=63&mode=s&jobsource=104_bank1\n",
      "Start fetching page 64...\n",
      "https://www.104.com.tw/jobs/search/?ro=0&jobcat=2007001004&kwop=7&keyword=iOS&expansionType=area%2Cspec%2Ccom%2Cjob%2Cwf%2Cwktm&order=14&asc=0&page=64&mode=s&jobsource=104_bank1\n"
     ]
    }
   ],
   "source": [
    "page_soups = []\n",
    "page_count = 1\n",
    "while True:\n",
    "    print(f'Start fetching page {page_count}...')\n",
    "    f.args['page'] = page_count\n",
    "    print(f.url)\n",
    "    \n",
    "    r = requests.get(f.url) \n",
    "    if r.status_code != 200:\n",
    "        break\n",
    "    \n",
    "    soup = bs4.BeautifulSoup(r.text, 'lxml')\n",
    "    if is_invalid_page(soup):\n",
    "        break\n",
    "        \n",
    "    page_soups.append(soup)\n",
    "    time.sleep(random.randint(3, 5))\n",
    "    page_count += 1"
   ]
  },
  {
   "cell_type": "code",
   "execution_count": 8,
   "metadata": {},
   "outputs": [
    {
     "name": "stdout",
     "output_type": "stream",
     "text": [
      "Found 63 Pages.\n"
     ]
    }
   ],
   "source": [
    "print(f'Found {len(page_soups)} Pages.')"
   ]
  },
  {
   "cell_type": "markdown",
   "metadata": {},
   "source": [
    "# Use secondary keywords to filter the results"
   ]
  },
  {
   "cell_type": "code",
   "execution_count": 9,
   "metadata": {},
   "outputs": [],
   "source": [
    "regex = '|'.join(keyword_secondary_list)\n",
    "flags = re.IGNORECASE"
   ]
  },
  {
   "cell_type": "code",
   "execution_count": 11,
   "metadata": {},
   "outputs": [
    {
     "name": "stdout",
     "output_type": "stream",
     "text": [
      "Totally 1251 jobs to filter.\n",
      "Start fetching url: https://www.104.com.tw/job/6ztl0?jobsource=hotjob_chr...\n",
      "Filter progress: 0.08%\n",
      "Start fetching url: https://www.104.com.tw/job/7aabe?jobsource=hotjob_chr...\n",
      "Filter progress: 0.16%\n",
      "Start fetching url: https://www.104.com.tw/job/73ppk?jobsource=jolist_b_relevance...\n",
      "Filter progress: 0.24%\n"
     ]
    },
    {
     "ename": "KeyboardInterrupt",
     "evalue": "",
     "output_type": "error",
     "traceback": [
      "\u001b[0;31m---------------------------------------------------------------------------\u001b[0m",
      "\u001b[0;31mKeyboardInterrupt\u001b[0m                         Traceback (most recent call last)",
      "\u001b[0;32m<ipython-input-11-32479e84d728>\u001b[0m in \u001b[0;36m<module>\u001b[0;34m\u001b[0m\n\u001b[1;32m     17\u001b[0m     \u001b[0mprint\u001b[0m\u001b[0;34m(\u001b[0m\u001b[0;34mf'Filter progress: {round(count/len(job_urls)*100, 2)}%'\u001b[0m\u001b[0;34m)\u001b[0m\u001b[0;34m\u001b[0m\u001b[0;34m\u001b[0m\u001b[0m\n\u001b[1;32m     18\u001b[0m \u001b[0;34m\u001b[0m\u001b[0m\n\u001b[0;32m---> 19\u001b[0;31m     \u001b[0mtime\u001b[0m\u001b[0;34m.\u001b[0m\u001b[0msleep\u001b[0m\u001b[0;34m(\u001b[0m\u001b[0mrandom\u001b[0m\u001b[0;34m.\u001b[0m\u001b[0mrandint\u001b[0m\u001b[0;34m(\u001b[0m\u001b[0;36m3\u001b[0m\u001b[0;34m,\u001b[0m \u001b[0;36m5\u001b[0m\u001b[0;34m)\u001b[0m\u001b[0;34m)\u001b[0m\u001b[0;34m\u001b[0m\u001b[0;34m\u001b[0m\u001b[0m\n\u001b[0m",
      "\u001b[0;31mKeyboardInterrupt\u001b[0m: "
     ]
    }
   ],
   "source": [
    "results = []\n",
    "job_urls = []\n",
    "for soup in page_soups:\n",
    "    articles = soup.find_all('article')\n",
    "    job_urls.extend([urllib.parse.urljoin(url_original, article.find('a')['href']) for article in articles if article.find('a')])\n",
    "print(f'Totally {len(job_urls)} jobs to filter.')\n",
    "    \n",
    "count = 0\n",
    "for url in job_urls:\n",
    "    r = requests.get(url)\n",
    "    print(f'Start fetching url: {url}...')\n",
    "\n",
    "    if re.search(regex, r.text.replace('ios-app', 'app'), flags = re.IGNORECASE):\n",
    "        results.append(url)\n",
    "\n",
    "    count += 1\n",
    "    print(f'Filter progress: {round(count/len(job_urls)*100, 2)}%')\n",
    "\n",
    "    time.sleep(random.randint(3, 5))\n"
   ]
  },
  {
   "cell_type": "code",
   "execution_count": null,
   "metadata": {},
   "outputs": [],
   "source": [
    "print(f'Found {len(results)} results with the primary keyword \"{keyword_primary}\" and the secondary keyword \"{keyword_secondary_list}\".')"
   ]
  },
  {
   "cell_type": "markdown",
   "metadata": {},
   "source": [
    "# Show the results"
   ]
  },
  {
   "cell_type": "code",
   "execution_count": null,
   "metadata": {},
   "outputs": [],
   "source": [
    "for result in results:\n",
    "    print(result)"
   ]
  },
  {
   "cell_type": "code",
   "execution_count": null,
   "metadata": {},
   "outputs": [],
   "source": []
  },
  {
   "cell_type": "code",
   "execution_count": null,
   "metadata": {},
   "outputs": [],
   "source": []
  }
 ],
 "metadata": {
  "kernelspec": {
   "display_name": "Python 3",
   "language": "python",
   "name": "python3"
  },
  "language_info": {
   "codemirror_mode": {
    "name": "ipython",
    "version": 3
   },
   "file_extension": ".py",
   "mimetype": "text/x-python",
   "name": "python",
   "nbconvert_exporter": "python",
   "pygments_lexer": "ipython3",
   "version": "3.7.6"
  }
 },
 "nbformat": 4,
 "nbformat_minor": 4
}
